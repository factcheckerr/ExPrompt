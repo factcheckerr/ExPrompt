{
 "cells": [
  {
   "cell_type": "code",
   "execution_count": 15,
   "id": "78384427-bae2-4189-b0cf-29b1946092e3",
   "metadata": {
    "tags": []
   },
   "outputs": [
    {
     "name": "stdout",
     "output_type": "stream",
     "text": [
      "accuracy:0.6398058252427185\n"
     ]
    }
   ],
   "source": [
    "import json\n",
    "true_predictions = 0\n",
    "total_predictions = 0\n",
    "count = 0\n",
    "# llama3_llm_output.jsonl\n",
    "# mix_llm_output.jsonl\n",
    "with open('llama3_llm_output.jsonl', 'r') as f:\n",
    "    for line in f:\n",
    "        data = json.loads(line)\n",
    "        ground_truth = data['claim_label']\n",
    "        prediction = data['LLM_prediction']\n",
    "        if ground_truth == 'DISPUTED':\n",
    "            continue\n",
    "        if prediction==ground_truth:\n",
    "            true_predictions += 1\n",
    "        total_predictions += 1\n",
    "        count +=1\n",
    "\n",
    "\n",
    "print(\"accuracy:\"+str(true_predictions/total_predictions))\n"
   ]
  },
  {
   "cell_type": "code",
   "execution_count": null,
   "id": "68765c45-51ee-4f3a-9554-add2521ff05f",
   "metadata": {},
   "outputs": [],
   "source": []
  },
  {
   "cell_type": "code",
   "execution_count": null,
   "id": "68e5fb1c-d9ff-4cde-9b32-94c485baccf9",
   "metadata": {},
   "outputs": [],
   "source": []
  }
 ],
 "metadata": {
  "kernelspec": {
   "display_name": "Python 3 (ipykernel)",
   "language": "python",
   "name": "python3"
  },
  "language_info": {
   "codemirror_mode": {
    "name": "ipython",
    "version": 3
   },
   "file_extension": ".py",
   "mimetype": "text/x-python",
   "name": "python",
   "nbconvert_exporter": "python",
   "pygments_lexer": "ipython3",
   "version": "3.11.6"
  }
 },
 "nbformat": 4,
 "nbformat_minor": 5
}
