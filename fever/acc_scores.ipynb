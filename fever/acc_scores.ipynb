{
 "cells": [
  {
   "cell_type": "code",
   "execution_count": 10,
   "id": "d239be1d-9bb0-4b9e-af61-9514c8e0e729",
   "metadata": {
    "tags": []
   },
   "outputs": [
    {
     "name": "stdout",
     "output_type": "stream",
     "text": [
      "true:4471-ground truth:5393-accuracy:0.8290376413869831\n"
     ]
    }
   ],
   "source": [
    "import json\n",
    "true_predictions = 0\n",
    "total_predictions = 0\n",
    "# llama3_llm_output_test.jsonl\n",
    "# mix_llm_output_test.jsonl\n",
    "with open('mix_llm_output_test.jsonl', 'r') as f:\n",
    "    for line in f:\n",
    "        data = json.loads(line)\n",
    "        ground_truth = data['label']\n",
    "        prediction = data['LLM_prediction']\n",
    "        if prediction==ground_truth:\n",
    "            true_predictions += 1\n",
    "        total_predictions += 1\n",
    "\n",
    "\n",
    "print('true:'+str(true_predictions)+'-ground truth:'+str(total_predictions)+\"-accuracy:\"+str(true_predictions/total_predictions))\n"
   ]
  },
  {
   "cell_type": "code",
   "execution_count": null,
   "id": "880009ce-b05a-4deb-8cdf-6e514847e3ca",
   "metadata": {},
   "outputs": [],
   "source": []
  },
  {
   "cell_type": "code",
   "execution_count": null,
   "id": "a5713585-7e49-454b-8eed-b974fc640ccc",
   "metadata": {},
   "outputs": [],
   "source": []
  }
 ],
 "metadata": {
  "kernelspec": {
   "display_name": "Python 3 (ipykernel)",
   "language": "python",
   "name": "python3"
  },
  "language_info": {
   "codemirror_mode": {
    "name": "ipython",
    "version": 3
   },
   "file_extension": ".py",
   "mimetype": "text/x-python",
   "name": "python",
   "nbconvert_exporter": "python",
   "pygments_lexer": "ipython3",
   "version": "3.11.6"
  }
 },
 "nbformat": 4,
 "nbformat_minor": 5
}
